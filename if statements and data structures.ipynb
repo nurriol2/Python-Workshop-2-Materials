{
 "cells": [
  {
   "cell_type": "markdown",
   "metadata": {},
   "source": [
    "# Python Workshop 2\n",
    "\n",
    "## Table of Contents\n",
    "* [Opening Spyder](#Opening-Spyder)\n",
    "* [The if statement](#The-if-statement)\n",
    "* [Common Python data structures](#Common-Python-data-structures)\n",
    " * [Tuples](#Tuples)\n",
    " * [Lists](#Lists)\n",
    " * [Dictionaries](#Dictionaries)\n",
    "* [Good coding style](#Good-coding-style)\n",
    " \n",
    "<font size=\"1\">Notebook by Nick Sherer and Elliot Urriola with additional exercises from Matt Zhang</font>\n",
    "\n",
    "\n",
    "## Introduction\n",
    "\n",
    "In today's workshop, we'll be covering coding in a text editor, the <code>if</code> statement, and the most common ways to combine different pieces of data in Python: tuples, lists, and dictionaries.\n",
    "\n",
    "You will often want to reuse code you write to do an analysis or to collect data. Jupyter notebooks are good for exploration and presentation, but it can be hard to reuse code from a jupyter notebook or to write larger pieces of code in it. So we're going to execute code and do the exercises today in the text editor Spyder, and only use jupyter notebooks to present information.\n",
    "\n",
    "One useful construct we didn't talk about last workshop is the <code>if</code> statement. The if statement lets you instruct Python to execute one piece of code if a condition is true and a different piece of code if the condition is false.\n",
    "\n",
    "When programming, you'll often find you have a collection of related items like a collection of numbers describing the position of a particle over time or a collection of words making up a sentence. Because this occurs a lot, Python comes with datatypes for very general but useful ways you might want to aggregate data. The most common ones are Tuples, Lists, and Dictionaries. We'll cover the basics of all three."
   ]
  },
  {
   "cell_type": "markdown",
   "metadata": {},
   "source": [
    "### The if statement\n",
    "<font size=\"1\">[Return to Table of Contents](#Table-of-Contents)</font>\n",
    "\n",
    "The <code>if</code> statement is an important part of the Python language for controlling your program's execution. It looks like this\n",
    "\n",
    "<code>if condition:\n",
    "        dosomething()</code>\n",
    "        \n",
    "<code>condition</code> is a python expression (piece of Python code that returns a value) which can be treated as a boolean i.e. <code>True</code> or <code>False</code>.\n",
    "\n",
    "For example,"
   ]
  },
  {
   "cell_type": "code",
   "execution_count": 1,
   "metadata": {},
   "outputs": [
    {
     "name": "stdout",
     "output_type": "stream",
     "text": [
      "x is greater than y.\n"
     ]
    }
   ],
   "source": [
    "x = 5\n",
    "y = 3\n",
    "if x > y:\n",
    "    print('x is greater than y.')"
   ]
  },
  {
   "cell_type": "markdown",
   "metadata": {},
   "source": [
    "Sometimes, you'll want to check multiple exclusive conditions. To do this Python has the <code>elif<code> statement. <code>elif</code> is short for \"else if\". If an <code>if</code> statement turns out not to be true, then Python will check the <elif> statment after it. If that elif statement isn't true, then it will check the next <code>elif</code> statement and so on. Once a statement evaluates to True, no further statements will be checked."
   ]
  },
  {
   "cell_type": "code",
   "execution_count": 2,
   "metadata": {},
   "outputs": [
    {
     "name": "stdout",
     "output_type": "stream",
     "text": [
      "a is equal to 3.\n"
     ]
    }
   ],
   "source": [
    "a = 3\n",
    "if a < 2:\n",
    "    print('a is less than 2.')\n",
    "elif a == 2: # checks if a is equal to 2\n",
    "    print('a is equal to 2.')\n",
    "elif a == 3:\n",
    "    print('a is equal to 3.')\n",
    "elif a > 2:\n",
    "    print('a is greater than 2.') # this won't be executed because the elif above it is true."
   ]
  },
  {
   "cell_type": "markdown",
   "metadata": {},
   "source": [
    "Often, you'll want something to occur if none of the conditions of your <code>if</code>'s or <code>elif</code>'s are true. In that case, you can use the <code>else</code> statement."
   ]
  },
  {
   "cell_type": "code",
   "execution_count": 3,
   "metadata": {},
   "outputs": [
    {
     "name": "stdout",
     "output_type": "stream",
     "text": [
      "b is positive.\n"
     ]
    }
   ],
   "source": [
    "b = 9\n",
    "if b < 0:\n",
    "    print('b is negative.')\n",
    "elif b == 0:\n",
    "    print('b equals 0.')\n",
    "else:\n",
    "    print('b is positive.')"
   ]
  },
  {
   "cell_type": "markdown",
   "metadata": {},
   "source": [
    "If you define a variable inside an if statement or inside nested if statements, it will be available outside the level of those statements. If you choose to do this, I recommend that every possible evaluation of your if statements assigns some value to that variable. Variables that may or may not exist depending on how your if statements are evaluated can lead to complications later."
   ]
  },
  {
   "cell_type": "code",
   "execution_count": 4,
   "metadata": {},
   "outputs": [
    {
     "name": "stdout",
     "output_type": "stream",
     "text": [
      "way less\n"
     ]
    }
   ],
   "source": [
    "c = -11\n",
    "if c < 0:\n",
    "    if c < -10:\n",
    "        d = 'way less'\n",
    "    else:\n",
    "        d = 'little bit less'\n",
    "elif c == 0:\n",
    "    d = 'equals'\n",
    "else:\n",
    "    d = 'greater'\n",
    "print(d)"
   ]
  },
  {
   "cell_type": "markdown",
   "metadata": {},
   "source": [
    "You can find the exercise for if statements in if_statement_exercise.py"
   ]
  },
  {
   "cell_type": "markdown",
   "metadata": {},
   "source": [
    "### Lists\n",
    "<font size=\"1\">[Return to Table of Contents](#Table-of-Contents)</font>\n",
    "\n",
    "Lists are another important container for holding data in Python. Lists work a lot like tuples in that they are an ordered collection of data and you can pull an item from a list by indexing. However, they differ from tuples in that you can change the elements of a list or add new elements to the end of a list.\n",
    "\n",
    "You make a list by enclosing the data to be put into the list in brackets, separating the different pieces of data by commas."
   ]
  },
  {
   "cell_type": "code",
   "execution_count": 5,
   "metadata": {},
   "outputs": [
    {
     "name": "stdout",
     "output_type": "stream",
     "text": [
      "my_list is ['apples', 'oranges', 'bananas', 'starfruits', 'avocados']\n",
      "The element at index 3 in my_list is starfruits\n"
     ]
    }
   ],
   "source": [
    "my_list = ['apples', 'oranges', 'bananas', 'starfruits', 'avocados']\n",
    "print('my_list is', my_list)\n",
    "print('The element at index 3 in my_list is', my_list[3])"
   ]
  },
  {
   "cell_type": "markdown",
   "metadata": {},
   "source": [
    "You can change the value of an element in a list like so"
   ]
  },
  {
   "cell_type": "code",
   "execution_count": 6,
   "metadata": {},
   "outputs": [
    {
     "name": "stdout",
     "output_type": "stream",
     "text": [
      "my_list is ['plums', 'oranges', 'bananas', 'starfruits', 'avocados']\n"
     ]
    }
   ],
   "source": [
    "my_list[0]='plums'\n",
    "print('my_list is', my_list)"
   ]
  },
  {
   "cell_type": "markdown",
   "metadata": {},
   "source": [
    "You can add new elements to the end of a list like so"
   ]
  },
  {
   "cell_type": "code",
   "execution_count": 7,
   "metadata": {},
   "outputs": [
    {
     "name": "stdout",
     "output_type": "stream",
     "text": [
      "my_list is ['plums', 'oranges', 'bananas', 'starfruits', 'avocados', 'lychees']\n"
     ]
    }
   ],
   "source": [
    "my_list.append('lychees')\n",
    "print('my_list is', my_list)"
   ]
  },
  {
   "cell_type": "markdown",
   "metadata": {},
   "source": [
    "You can remove an element from the end of a list too"
   ]
  },
  {
   "cell_type": "code",
   "execution_count": 8,
   "metadata": {},
   "outputs": [
    {
     "name": "stdout",
     "output_type": "stream",
     "text": [
      "my_list is ['plums', 'oranges', 'bananas', 'starfruits', 'avocados']\n"
     ]
    }
   ],
   "source": [
    "my_list.pop()\n",
    "print('my_list is', my_list)"
   ]
  },
  {
   "cell_type": "markdown",
   "metadata": {},
   "source": [
    "There are other ways to modify lists too, but they don't come up as often. An important thing to remember when using lists is that if you pass a list into a function and modify it, the list is modified outside the function too. This can be useful, but programs that take advantage of it a lot can get pretty hairy."
   ]
  },
  {
   "cell_type": "code",
   "execution_count": 9,
   "metadata": {},
   "outputs": [
    {
     "name": "stdout",
     "output_type": "stream",
     "text": [
      "my_list is ['plums', 'oranges', 'bananas', 'starfruits', 'avocados', 'apple', 'apple', 'apple']\n",
      "my_list is ['plums', 'oranges', 'bananas', 'starfruits', 'avocados']\n"
     ]
    }
   ],
   "source": [
    "def add_fruits(my_list):\n",
    "    for i in range(3):\n",
    "        my_list.append('apple')\n",
    "\n",
    "def remove_fruits(my_list):\n",
    "    for i in range(3):\n",
    "        my_list.pop()\n",
    "\n",
    "add_fruits(my_list)\n",
    "print('my_list is', my_list)\n",
    "remove_fruits(my_list)\n",
    "print('my_list is', my_list)"
   ]
  },
  {
   "cell_type": "markdown",
   "metadata": {},
   "source": [
    "### Dictionaries\n",
    "<font size=\"1\">[Return to Table of Contents](#Table-of-Contents)</font>"
   ]
  },
  {
   "cell_type": "code",
   "execution_count": null,
   "metadata": {
    "collapsed": true
   },
   "outputs": [],
   "source": []
  }
 ],
 "metadata": {
  "kernelspec": {
   "display_name": "Python 3",
   "language": "python",
   "name": "python3"
  },
  "language_info": {
   "codemirror_mode": {
    "name": "ipython",
    "version": 3
   },
   "file_extension": ".py",
   "mimetype": "text/x-python",
   "name": "python",
   "nbconvert_exporter": "python",
   "pygments_lexer": "ipython3",
   "version": "3.6.1"
  }
 },
 "nbformat": 4,
 "nbformat_minor": 2
}
