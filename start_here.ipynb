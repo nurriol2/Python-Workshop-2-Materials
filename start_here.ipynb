{
 "cells": [
  {
   "cell_type": "markdown",
   "metadata": {},
   "source": [
    "# Python Workshop 2\n",
    "\n",
    "## Table of Contents\n",
    "* [The if statement](#The-if-statment)\n",
    "    * [Exercise set 1](#Exercise-set-1)\n",
    "* [Common Python containers for data](#Common-Python-containers-for-data)\n",
    "  * [Tuples](#Tuples)\n",
    "    * [Exercise Set 2](#Exercise-Set-2)\n",
    "  * [Lists](#Lists)\n",
    "    * [Exercise Set 3](#Exercise-Set-3)\n",
    "  * [Dictionaries](#Dictionaries)\n",
    "    * [Exercise Set 4](#Exercise-Set-4)\n",
    "* [Good coding style and coding in a text editor](#Good-coding-style-and-coding-in-a-text-editor)\n",
    " \n",
    "<font size=\"1\">Notebook by Nick Sherer, Elliot Urriola, and Matt Zhang</font>\n",
    "\n",
    "\n",
    "## Introduction\n",
    "\n",
    "In today's workshop, we'll be covering the <code>if</code> statement, the most common ways to combine different pieces of data in Python, and good coding style and how to code in a text editor.\n",
    "\n",
    "The if statement lets you instruct Python to do one thing if a condition is true and another if it is false. It's fairly useful.\n",
    "\n",
    "When programming, you'll often find you have a collection of related items like a collection of numbers describing the position of a particle over time or a collection of words making up a sentence. Because this occurs a lot, Python comes with datatypes for very general but useful ways you might want to aggregate data. The most common ones are Tuples, Lists, and Dictionaries. We'll cover the basics of all three.\n",
    "\n",
    "Finally, you often will want to reuse code you write for an analysis or to collect data. Jupyter notebooks are good for exploration and presentation, but it can be hard to reuse code from a jupyter notebook. So we're going to talk about coding in a text editor and how to write code that's clear and understandable."
   ]
  },
  {
   "cell_type": "code",
   "execution_count": null,
   "metadata": {},
   "outputs": [],
   "source": []
  }
 ],
 "metadata": {
  "kernelspec": {
   "display_name": "Python 3",
   "language": "python",
   "name": "python3"
  },
  "language_info": {
   "codemirror_mode": {
    "name": "ipython",
    "version": 3
   },
   "file_extension": ".py",
   "mimetype": "text/x-python",
   "name": "python",
   "nbconvert_exporter": "python",
   "pygments_lexer": "ipython3",
   "version": "3.7.0"
  }
 },
 "nbformat": 4,
 "nbformat_minor": 2
}
