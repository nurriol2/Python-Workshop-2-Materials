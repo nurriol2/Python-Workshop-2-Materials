{
 "cells": [
  {
   "cell_type": "markdown",
   "metadata": {},
   "source": [
    "# Accessing & Launching Spyder (IDE) #"
   ]
  },
  {
   "cell_type": "markdown",
   "metadata": {},
   "source": [
    "Spyder is called an **I**ntegrated **D**evelopment **E**nvironment. It is another type of interface used to read and write Python code. \n",
    "\n",
    "Here, we are going to walk through how to access Spyder on your machine."
   ]
  },
  {
   "cell_type": "markdown",
   "metadata": {},
   "source": [
    "# Launching Spyder #\n",
    "\n",
    "Many of you should have Spyder already available to you if you downloaded Python through the Anaconda Distribution *(reccomended from Workshop 1)*. So, we will skip over the installation process and jump to opening and using Spyder. \n",
    "\n",
    "## Mac OSX ##\n",
    "\n",
    "**1.** Locate and click the *Launchpad* icon. Doing so should take you to a view of your applications.\n",
    "\n",
    "**2.** Locate the search bar at the top of your screen. \n",
    "\n",
    "**3.** Type \"terminal\" (without the quotes) into the search box. Click the app that appears.\n",
    "\n",
    "**4.** Type \"spyder\" (without quotes) when a blinking rectangle appears.\n",
    "\n",
    "**5.** Wait a few seconds for a large white window to appear.\n",
    "\n",
    "Voila! You've opened Spyder. \n",
    "\n",
    "## Windows OS ##\n",
    "\n",
    "**1.** Locate the *start menu* icon. Doing so should open a panel of options.\n",
    "\n",
    "**2.** Locate the search bar near the bottom of the panel. \n",
    "\n",
    "**3.** type \"CMD\" (without quotes) into the search box. Click the icon that appears in the panel above the search bar.\n",
    "\n",
    "**4.** Type \"spyder\" (without quotes) when a blinking rectangle appears.\n",
    "\n",
    "**5.** Wait a few seconds for a large white window to appear.\n",
    "\n",
    "Voila! You've opened Spyder. "
   ]
  },
  {
   "cell_type": "markdown",
   "metadata": {},
   "source": [
    "## Opening Files in Spyder ##\n",
    "\n",
    "The first time you open Spyder, the left pane on your screen will likely be empty except for a few strings/comments at the very top of this pane.\n",
    "\n",
    "This leftmost section is called your editor. This is where you will actually type your Python code or where the code in a python file will appear when you open it. \n",
    "\n",
    "Whether you are on a Windows or a Mac machine, opening files is the same in Spyder. Simply locate the \"File\" at the top of your screen and click it. The options in the drop down menu give you a few choices on how to proceed.\n",
    "\n",
    "**Note:  The file extension of a python file is .py**\n",
    "\n",
    "*Scenario 1*\n",
    "\n",
    "If the file(s) are already downloaded on your computer and you know where it is, go ahead and click \"Open File\" from the drop down menu and navigate through the pop up menus to locate your python file.\n",
    "\n",
    "*Scenario 2*\n",
    "\n",
    "If the file(s) are already downloaded on your computer but you don't know where it is, try looking through your Documents or Downloads folder via the start menu (windows) or Finder (Mac). Then jump up to *Scenario 1*. \n",
    "\n",
    "*Scenario 3*\n",
    "\n",
    "If the files(s) are not already downloaded, check your email for the files distributed with this Workshop. Download the files, then jump to Scenario 1. If that doesn't work, look below for instructions on how to retrive a project from GitHub."
   ]
  },
  {
   "cell_type": "markdown",
   "metadata": {},
   "source": [
    "## Getting Code from GitHub ##\n",
    "\n",
    "**1.** Go to github.com \n",
    "\n",
    "**2.** Search for the user whose code you want to access. \n",
    "\n",
    "**3.** Locate the project title you want to access. Click the title.\n",
    "\n",
    "**4.** On the project page, find a green button labeled \"Clone or download\"\n",
    "\n",
    "**5.** Click \"Download as ZIP\"\n",
    "\n",
    "**6.** Accept the prompts your computer shows\n",
    "\n",
    "**7.** Make sure the downloaded file is in your Downloads folder by looking at yor Downloads folder after it has completed. \n",
    "\n",
    "**8.** Jump up to Scenario 1 in \"Opening Files in Spyder\""
   ]
  },
  {
   "cell_type": "markdown",
   "metadata": {},
   "source": [
    "## Setting the Working Directory ##\n",
    "\n",
    "Whether you are on a Windows or Mac machine, setting the working directory is the same. \n",
    "\n",
    "**1.** Locate this bar near the top of the Spyder application. \n",
    "\n",
    "<img src = \"files/spyderImage.png\">\n",
    "\n",
    "**2.** Click the blue drop down arrow adjacent to the bar. \n",
    "\n",
    "**3.** Select and click the appropriate location for your Python code to be saved from the options.\n",
    "\n",
    "**Note:  Popular locations include your Documents folder or a new folder on your desktop**\n",
    "\n",
    "Here's an example of the path to my documents folder on a Mac computer:\n",
    "/Users/yourname/Documents\n",
    "\n",
    "Here's an example of the path to a folder on the desktop of a Mac computer:\n",
    "/Users/yourname/Desktop/myCodeFolder\n",
    "\n",
    "**For the workshop, you should set the working directory to be the folder that contains all the workshop materials** (i.e. the folder this notebook is in). If you're not sure what folder that is, running the command below will output that folder."
   ]
  },
  {
   "cell_type": "code",
   "execution_count": null,
   "metadata": {},
   "outputs": [],
   "source": [
    "pwd"
   ]
  }
 ],
 "metadata": {
  "kernelspec": {
   "display_name": "Python 3",
   "language": "python",
   "name": "python3"
  },
  "language_info": {
   "codemirror_mode": {
    "name": "ipython",
    "version": 3
   },
   "file_extension": ".py",
   "mimetype": "text/x-python",
   "name": "python",
   "nbconvert_exporter": "python",
   "pygments_lexer": "ipython3",
   "version": "3.6.1"
  }
 },
 "nbformat": 4,
 "nbformat_minor": 2
}
