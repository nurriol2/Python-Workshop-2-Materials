{
 "cells": [
  {
   "cell_type": "markdown",
   "metadata": {},
   "source": [
    "# New Data Type:  Tuple #\n",
    "\n",
    "Here, we introduce the *tuple* data type. There is a short explanation of what tuples are in Python, then a few basic examples of tuples in action. \n",
    "\n",
    "Tuples are one of Python's many container data types. Tuples hold pieces of data, called *elements*. Elements can be in a variety of forms. Common choices for data are: strings, integers, floats, and bools.  \n",
    "\n",
    "You may have encountered tuples in Workshop 1 if you used string formatting to assign a variable to a portion of a printed string.\n",
    "\n",
    "For example, look at the code in the following cell"
   ]
  },
  {
   "cell_type": "code",
   "execution_count": 11,
   "metadata": {},
   "outputs": [
    {
     "name": "stdout",
     "output_type": "stream",
     "text": [
      "Hello my name is Elliot I am 22 years old!\n"
     ]
    }
   ],
   "source": [
    "my_name = 'Elliot'\n",
    "my_age = 22\n",
    "\n",
    "print('Hello my name is %s I am %i years old!' %(my_name, my_age))"
   ]
  },
  {
   "cell_type": "markdown",
   "metadata": {},
   "source": [
    "In the above example, we are using a tuple containing the variables my_name and my_age as the elements to print specific data in my string. \n",
    "\n",
    "Tuples are made by wrapping left and right parenthesis around comma separated values or by calling the tuple() function on another container.\n",
    "\n",
    "Take a look at some examples below"
   ]
  },
  {
   "cell_type": "code",
   "execution_count": 23,
   "metadata": {},
   "outputs": [
    {
     "name": "stdout",
     "output_type": "stream",
     "text": [
      "(1, 2, 3, 4)\n",
      "<class 'tuple'>\n"
     ]
    }
   ],
   "source": [
    "#creating a tuple by wrapping elements in one set of parenthesis\n",
    "simple_tuple = (1,2,3,4)\n",
    "\n",
    "#print statements will display my tuples on the screen\n",
    "print(simple_tuple)\n",
    "print(type(simple_tuple))"
   ]
  },
  {
   "cell_type": "markdown",
   "metadata": {},
   "source": [
    "In this example, we created a tuple called simple_tuple by placing some integers between one set of parenthesis. Notice that each integer is separated by a comma."
   ]
  },
  {
   "cell_type": "code",
   "execution_count": 24,
   "metadata": {},
   "outputs": [
    {
     "name": "stdout",
     "output_type": "stream",
     "text": [
      "['Alyss', 'Scrappy', 'Monty', 'Cake']\n",
      "('Alyss', 'Scrappy', 'Monty', 'Cake')\n"
     ]
    }
   ],
   "source": [
    "#a list of my pets names\n",
    "pets = ['Alyss', 'Scrappy', 'Monty', 'Cake']\n",
    "\n",
    "#creating a tuple called pet_tuple using tuple()\n",
    "pet_tuple = tuple(pets)\n",
    "\n",
    "#print statements will display my tuples on the screen\n",
    "print(pets)\n",
    "print(pet_tuple)"
   ]
  },
  {
   "cell_type": "markdown",
   "metadata": {},
   "source": [
    "In this case, we call the tuple() function that is built into Python to create a tuple called pet_tuple. Using the tuple() function is similar to how we might have changed integers into floats by using float() in Workshop 1.\n",
    "\n",
    "Notice that my data stayed the same, except now it is encapsulated by () instead of []."
   ]
  },
  {
   "cell_type": "code",
   "execution_count": 25,
   "metadata": {},
   "outputs": [
    {
     "name": "stdout",
     "output_type": "stream",
     "text": [
      "('howdy', 67, 3.14159, False)\n"
     ]
    }
   ],
   "source": [
    "#creating a tuple called mixed_tuple\n",
    "mixed_tuple = ('howdy', 67, 3.14159, False)\n",
    "\n",
    "#print statements will display my tuples on the screen\n",
    "print(mixed_tuple)"
   ]
  },
  {
   "cell_type": "markdown",
   "metadata": {},
   "source": [
    "In this example, we created a tuple called mixed_tuple by surrounding a set of comma separated elements with parenthesis. However, the elements of the tuple each have different data types.\n",
    "\n",
    "Tuples can handle elements with different data types. This behavior is different from how numpy arrays work. Recall that numpy arrays required every element to have the same data type.\n",
    "\n",
    "If your program requires some kind of flexibility when dealing with data types, consider using tuples to hold your data!"
   ]
  }
 ],
 "metadata": {
  "kernelspec": {
   "display_name": "Python 3",
   "language": "python",
   "name": "python3"
  },
  "language_info": {
   "codemirror_mode": {
    "name": "ipython",
    "version": 3
   },
   "file_extension": ".py",
   "mimetype": "text/x-python",
   "name": "python",
   "nbconvert_exporter": "python",
   "pygments_lexer": "ipython3",
   "version": "3.6.4"
  }
 },
 "nbformat": 4,
 "nbformat_minor": 2
}
