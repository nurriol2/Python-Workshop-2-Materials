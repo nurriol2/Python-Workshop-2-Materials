{
 "cells": [
  {
   "cell_type": "markdown",
   "metadata": {},
   "source": [
    "# New Data Type:  Dictionaries #\n",
    "\n",
    "We will now introduce another, quite useful data type in Python. Namely, we will be exploring *dictionaries* and demonstrate how they can be useful in simulating the replication of DNA.\n",
    "\n",
    "Dictionaries are similar to arrays we saw in Workshop 1 in that, they are containers for holding data. We saw that with arrays, we were able to grab specific pieces of data inside the array by using the indices of the desired element (piece of data) to slice into the array. We were able to do this because all the elements of the array are part of some specific *order*.\n",
    "\n",
    "For example, consider the following code"
   ]
  },
  {
   "cell_type": "code",
   "execution_count": 1,
   "metadata": {},
   "outputs": [
    {
     "name": "stdout",
     "output_type": "stream",
     "text": [
      "[0 1 2 3 4 5 6 7 8 9]\n"
     ]
    }
   ],
   "source": [
    "import numpy as np\n",
    "\n",
    "my_array = np.arange(0, 10)\n",
    "print(my_array)"
   ]
  },
  {
   "cell_type": "markdown",
   "metadata": {},
   "source": [
    "Clearly, there is some order: 0 comes before 1, 1 comes before 2 and so on. Python is also  aware of this order.\n",
    "\n",
    "Dictionaries, on the other hand, do not have a specified order. So, we cannot slice into them like we did with arrays. Take a look at the following code. Running that cell should return an error. "
   ]
  },
  {
   "cell_type": "code",
   "execution_count": 2,
   "metadata": {},
   "outputs": [
    {
     "ename": "KeyError",
     "evalue": "0",
     "output_type": "error",
     "traceback": [
      "\u001b[0;31m---------------------------------------------------------------------------\u001b[0m",
      "\u001b[0;31mKeyError\u001b[0m                                  Traceback (most recent call last)",
      "\u001b[0;32m<ipython-input-2-df30b39c357c>\u001b[0m in \u001b[0;36m<module>\u001b[0;34m()\u001b[0m\n\u001b[1;32m      2\u001b[0m \u001b[0;34m\u001b[0m\u001b[0m\n\u001b[1;32m      3\u001b[0m \u001b[0;31m#Slicing into the dictionary like it's an array\u001b[0m\u001b[0;34m\u001b[0m\u001b[0;34m\u001b[0m\u001b[0m\n\u001b[0;32m----> 4\u001b[0;31m \u001b[0mmy_dictionary\u001b[0m\u001b[0;34m[\u001b[0m\u001b[0;36m0\u001b[0m\u001b[0;34m]\u001b[0m\u001b[0;34m\u001b[0m\u001b[0m\n\u001b[0m",
      "\u001b[0;31mKeyError\u001b[0m: 0"
     ]
    }
   ],
   "source": [
    "my_dictionary = {'0': 0, '1': 1, '2': 2, '3': 3}\n",
    "\n",
    "#Slicing into the dictionary like it's an array\n",
    "my_dictionary[0]"
   ]
  },
  {
   "cell_type": "markdown",
   "metadata": {},
   "source": [
    "To a human, there is clearly an order to the elements inside the curly braces. Again, '0' comes before '1' and so on. But to Python, there is no order. \n",
    "\n",
    "Instead, we access the data inside our dictionary using what is called the *key*. The syntax is the same as slicing arrays, but Python will return what is called the *value*. \n",
    "\n",
    "In a dictionary the key and value are identified as shown below.\n",
    "\n",
    "{..., key : value, ...}\n",
    "\n",
    "We see a key is always the thing on the left of the colon : and the value is always the thing on the right of the colon.\n",
    "\n",
    "Values are accessed using keys as shown below.\n",
    "\n",
    "dictionary[key] = value\n",
    "\n",
    "Let's take a look at some examples."
   ]
  },
  {
   "cell_type": "code",
   "execution_count": 3,
   "metadata": {},
   "outputs": [
    {
     "name": "stdout",
     "output_type": "stream",
     "text": [
      "The value associated with my_scrambled_dict['two'] is 2\n"
     ]
    }
   ],
   "source": [
    "#The next line creates a dictionary called my_scrambled_dict\n",
    "my_scrambled_dict = {'three': 3, 'zero': 0, 'two': 2, 'one': 1}\n",
    "\n",
    "#Notice, to us humans the numbers are out of order!\n",
    "\n",
    "#The next line uses the key to access the value\n",
    "value_of_dict = my_scrambled_dict['two']\n",
    "\n",
    "#The next line uses string formatting to print out some text and value_of_dict\n",
    "print(\"The value associated with my_scrambled_dict['two'] is %s\" %value_of_dict)"
   ]
  },
  {
   "cell_type": "markdown",
   "metadata": {},
   "source": [
    "First, notice that I had to use a string 'two' as my key. That is because Python is looking at all the keys in your dictionary and reading you the definition associated with it. \n",
    "\n",
    "Think about how you would use a dictionary to find the meaning of a word you didn't know in real life. You would search for the exact spelling of the word and read off its meaning.\n",
    "\n",
    "<img src = \"files/dictionaryImage.jpg\">"
   ]
  },
  {
   "cell_type": "code",
   "execution_count": null,
   "metadata": {},
   "outputs": [],
   "source": []
  },
  {
   "cell_type": "code",
   "execution_count": null,
   "metadata": {},
   "outputs": [],
   "source": []
  }
 ],
 "metadata": {
  "kernelspec": {
   "display_name": "Python 3",
   "language": "python",
   "name": "python3"
  },
  "language_info": {
   "codemirror_mode": {
    "name": "ipython",
    "version": 3
   },
   "file_extension": ".py",
   "mimetype": "text/x-python",
   "name": "python",
   "nbconvert_exporter": "python",
   "pygments_lexer": "ipython3",
   "version": "3.6.4"
  }
 },
 "nbformat": 4,
 "nbformat_minor": 2
}
