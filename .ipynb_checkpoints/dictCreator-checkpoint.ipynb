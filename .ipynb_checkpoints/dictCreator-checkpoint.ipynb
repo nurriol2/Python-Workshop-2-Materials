{
 "cells": [
  {
   "cell_type": "code",
   "execution_count": 1,
   "metadata": {},
   "outputs": [
    {
     "name": "stdout",
     "output_type": "stream",
     "text": [
      "['Ala, GCT, GCC, GCA, GCG\\n',\n",
      " 'Arg, CGT, CGC, CGA, CGG, AGA, AGG\\n',\n",
      " 'Asn, AAT, AAC\\n',\n",
      " 'Asp, GAT, GAC\\n',\n",
      " 'Cys, TGT, TGC\\n',\n",
      " 'Gln, CAA, CAG\\n',\n",
      " 'Glu, GAA, GAG \\n',\n",
      " 'Gly, GGT, GGC, GGA, GGG\\n',\n",
      " 'His, CAT, CAC\\n',\n",
      " 'Ile, ATT, ATC, ATA\\n',\n",
      " 'START, ATG\\n',\n",
      " 'Leu, TTA, TTG, CTT, CTC, CTA, CTG\\n',\n",
      " 'Lys, AAA, AAG\\n',\n",
      " 'Met, ATG\\n',\n",
      " 'Phe, TTT, TTC\\n',\n",
      " 'Pro, CCT, CCC, CCA, CCG\\n',\n",
      " 'Ser, TCT, TCC, TCA, TCG, AGT, AGC\\n',\n",
      " 'Thr, ACT, ACC, ACA, ACG\\n',\n",
      " 'Trp, TGG\\n',\n",
      " 'Tyr, TAT, TAC\\n',\n",
      " 'Val, GTT, GTC, GTA, GTG\\n',\n",
      " 'STOP, TAA, TGA, TAG']\n"
     ]
    }
   ],
   "source": [
    "import pprint\n",
    "\n",
    "myfile = open('codon-to-amino.txt', 'r')\n",
    "\n",
    "data = myfile.readlines()\n",
    "\n",
    "myfile.close()\n",
    "\n",
    "pprint.pprint(data)"
   ]
  },
  {
   "cell_type": "code",
   "execution_count": 2,
   "metadata": {},
   "outputs": [],
   "source": [
    "formattedData = []\n",
    "for line in data:\n",
    "    formattedData.append(line.strip('\\n').split(','))"
   ]
  },
  {
   "cell_type": "code",
   "execution_count": 3,
   "metadata": {},
   "outputs": [
    {
     "name": "stdout",
     "output_type": "stream",
     "text": [
      "[['Ala', ' GCT', ' GCC', ' GCA', ' GCG'],\n",
      " ['Arg', ' CGT', ' CGC', ' CGA', ' CGG', ' AGA', ' AGG'],\n",
      " ['Asn', ' AAT', ' AAC'],\n",
      " ['Asp', ' GAT', ' GAC'],\n",
      " ['Cys', ' TGT', ' TGC'],\n",
      " ['Gln', ' CAA', ' CAG'],\n",
      " ['Glu', ' GAA', ' GAG '],\n",
      " ['Gly', ' GGT', ' GGC', ' GGA', ' GGG'],\n",
      " ['His', ' CAT', ' CAC'],\n",
      " ['Ile', ' ATT', ' ATC', ' ATA'],\n",
      " ['START', ' ATG'],\n",
      " ['Leu', ' TTA', ' TTG', ' CTT', ' CTC', ' CTA', ' CTG'],\n",
      " ['Lys', ' AAA', ' AAG'],\n",
      " ['Met', ' ATG'],\n",
      " ['Phe', ' TTT', ' TTC'],\n",
      " ['Pro', ' CCT', ' CCC', ' CCA', ' CCG'],\n",
      " ['Ser', ' TCT', ' TCC', ' TCA', ' TCG', ' AGT', ' AGC'],\n",
      " ['Thr', ' ACT', ' ACC', ' ACA', ' ACG'],\n",
      " ['Trp', ' TGG'],\n",
      " ['Tyr', ' TAT', ' TAC'],\n",
      " ['Val', ' GTT', ' GTC', ' GTA', ' GTG'],\n",
      " ['STOP', ' TAA', ' TGA', ' TAG']]\n"
     ]
    }
   ],
   "source": [
    "pprint.pprint(formattedData)"
   ]
  },
  {
   "cell_type": "code",
   "execution_count": 11,
   "metadata": {},
   "outputs": [
    {
     "name": "stdout",
     "output_type": "stream",
     "text": [
      "{'Ala': ' GCT GCC GCA GCG',\n",
      " 'Arg': ' CGT CGC CGA CGG AGA AGG',\n",
      " 'Asn': ' AAT AAC',\n",
      " 'Asp': ' GAT GAC',\n",
      " 'Cys': ' TGT TGC',\n",
      " 'Gln': ' CAA CAG',\n",
      " 'Glu': ' GAA GAG ',\n",
      " 'Gly': ' GGT GGC GGA GGG',\n",
      " 'His': ' CAT CAC',\n",
      " 'Ile': ' ATT ATC ATA',\n",
      " 'Leu': ' TTA TTG CTT CTC CTA CTG',\n",
      " 'Lys': ' AAA AAG',\n",
      " 'Met': ' ATG',\n",
      " 'Phe': ' TTT TTC',\n",
      " 'Pro': ' CCT CCC CCA CCG',\n",
      " 'START': ' ATG',\n",
      " 'STOP': ' TAA TGA TAG',\n",
      " 'Ser': ' TCT TCC TCA TCG AGT AGC',\n",
      " 'Thr': ' ACT ACC ACA ACG',\n",
      " 'Trp': ' TGG',\n",
      " 'Tyr': ' TAT TAC',\n",
      " 'Val': ' GTT GTC GTA GTG'}\n"
     ]
    }
   ],
   "source": [
    "codons_to_amino = {}\n",
    "for sublist in formattedData:\n",
    "    aminoAcid = sublist[0]\n",
    "    codons = ''\n",
    "    for codon in sublist[1:]:\n",
    "        codons += codon \n",
    "    \n",
    "    codons_to_amino.setdefault(aminoAcid, codons)\n",
    "    \n",
    "pprint.pprint(codons_to_amino)"
   ]
  },
  {
   "cell_type": "code",
   "execution_count": 7,
   "metadata": {},
   "outputs": [
    {
     "name": "stdout",
     "output_type": "stream",
     "text": [
      "{'Ala': [' GCT', ' GCC', ' GCA', ' GCG'],\n",
      " 'Arg': [' CGT', ' CGC', ' CGA', ' CGG', ' AGA', ' AGG'],\n",
      " 'Asn': [' AAT', ' AAC'],\n",
      " 'Asp': [' GAT', ' GAC'],\n",
      " 'Cys': [' TGT', ' TGC'],\n",
      " 'Gln': [' CAA', ' CAG'],\n",
      " 'Glu': [' GAA', ' GAG '],\n",
      " 'Gly': [' GGT', ' GGC', ' GGA', ' GGG'],\n",
      " 'His': [' CAT', ' CAC'],\n",
      " 'Ile': [' ATT', ' ATC', ' ATA'],\n",
      " 'Leu': [' TTA', ' TTG', ' CTT', ' CTC', ' CTA', ' CTG'],\n",
      " 'Lys': [' AAA', ' AAG'],\n",
      " 'Met': [' ATG'],\n",
      " 'Phe': [' TTT', ' TTC'],\n",
      " 'Pro': [' CCT', ' CCC', ' CCA', ' CCG'],\n",
      " 'START': [' ATG'],\n",
      " 'STOP': [' TAA', ' TGA', ' TAG'],\n",
      " 'Ser': [' TCT', ' TCC', ' TCA', ' TCG', ' AGT', ' AGC'],\n",
      " 'Thr': [' ACT', ' ACC', ' ACA', ' ACG'],\n",
      " 'Trp': [' TGG'],\n",
      " 'Tyr': [' TAT', ' TAC'],\n",
      " 'Val': [' GTT', ' GTC', ' GTA', ' GTG']}\n"
     ]
    }
   ],
   "source": [
    "\n",
    "    "
   ]
  },
  {
   "cell_type": "code",
   "execution_count": null,
   "metadata": {},
   "outputs": [],
   "source": []
  }
 ],
 "metadata": {
  "kernelspec": {
   "display_name": "Python 3",
   "language": "python",
   "name": "python3"
  },
  "language_info": {
   "codemirror_mode": {
    "name": "ipython",
    "version": 3
   },
   "file_extension": ".py",
   "mimetype": "text/x-python",
   "name": "python",
   "nbconvert_exporter": "python",
   "pygments_lexer": "ipython3",
   "version": "3.6.4"
  }
 },
 "nbformat": 4,
 "nbformat_minor": 2
}
