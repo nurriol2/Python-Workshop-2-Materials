{
 "cells": [
  {
   "cell_type": "code",
   "execution_count": 35,
   "metadata": {},
   "outputs": [],
   "source": [
    "import pprint\n",
    "\n",
    "myfile = open('codon-to-amino.txt', 'r')\n",
    "\n",
    "data = myfile.readlines()\n",
    "\n",
    "myfile.close()\n",
    "\n",
    "#pprint.pprint(data)"
   ]
  },
  {
   "cell_type": "code",
   "execution_count": 36,
   "metadata": {},
   "outputs": [],
   "source": [
    "formattedData = []\n",
    "for line in data:\n",
    "    formattedData.append(line.strip('\\n').split(','))"
   ]
  },
  {
   "cell_type": "code",
   "execution_count": 37,
   "metadata": {},
   "outputs": [],
   "source": [
    "#pprint.pprint(formattedData)"
   ]
  },
  {
   "cell_type": "code",
   "execution_count": 42,
   "metadata": {},
   "outputs": [
    {
     "name": "stdout",
     "output_type": "stream",
     "text": [
      "{'Ala': [' GCT', ' GCC', ' GCA', ' GCG'],\n",
      " 'Arg': [' CGT', ' CGC', ' CGA', ' CGG', ' AGA', ' AGG'],\n",
      " 'Asn': [' AAT', ' AAC'],\n",
      " 'Asp': [' GAT', ' GAC'],\n",
      " 'Cys': [' TGT', ' TGC'],\n",
      " 'Gln': [' CAA', ' CAG'],\n",
      " 'Glu': [' GAA', ' GAG '],\n",
      " 'Gly': [' GGT', ' GGC', ' GGA', ' GGG'],\n",
      " 'His': [' CAT', ' CAC'],\n",
      " 'Ile': [' ATT', ' ATC', ' ATA'],\n",
      " 'Leu': [' TTA', ' TTG', ' CTT', ' CTC', ' CTA', ' CTG'],\n",
      " 'Lys': [' AAA', ' AAG'],\n",
      " 'Met': [' ATG'],\n",
      " 'Phe': [' TTT', ' TTC'],\n",
      " 'Pro': [' CCT', ' CCC', ' CCA', ' CCG'],\n",
      " 'START': [' ATG'],\n",
      " 'STOP': [' TAA', ' TGA', ' TAG'],\n",
      " 'Ser': [' TCT', ' TCC', ' TCA', ' TCG', ' AGT', ' AGC'],\n",
      " 'Thr': [' ACT', ' ACC', ' ACA', ' ACG'],\n",
      " 'Trp': [' TGG'],\n",
      " 'Tyr': [' TAT', ' TAC'],\n",
      " 'Val': [' GTT', ' GTC', ' GTA', ' GTG']}\n"
     ]
    }
   ],
   "source": [
    "codons_to_amino = {}\n",
    "for sublist in formattedData:\n",
    "    aminoAcid = sublist[0]\n",
    "    codons = sublist[1:]\n",
    " \n",
    "    codons_to_amino.setdefault(aminoAcid, codons)\n",
    "    \n",
    "for value in codons_to_amino.values():\n",
    "    for item in value:\n",
    "        value.append(item.strip(' '))\n",
    "        \n",
    "pprint.pprint(codons_to_amino)"
   ]
  },
  {
   "cell_type": "code",
   "execution_count": null,
   "metadata": {},
   "outputs": [],
   "source": []
  }
 ],
 "metadata": {
  "kernelspec": {
   "display_name": "Python 3",
   "language": "python",
   "name": "python3"
  },
  "language_info": {
   "codemirror_mode": {
    "name": "ipython",
    "version": 3
   },
   "file_extension": ".py",
   "mimetype": "text/x-python",
   "name": "python",
   "nbconvert_exporter": "python",
   "pygments_lexer": "ipython3",
   "version": "3.6.4"
  }
 },
 "nbformat": 4,
 "nbformat_minor": 2
}
