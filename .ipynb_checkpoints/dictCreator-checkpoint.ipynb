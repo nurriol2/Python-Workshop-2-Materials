{
 "cells": [
  {
   "cell_type": "code",
   "execution_count": 11,
   "metadata": {},
   "outputs": [],
   "source": [
    "import pprint\n",
    "\n",
    "myfile = open('codon-to-amino.txt', 'r')\n",
    "\n",
    "data = myfile.readlines()\n",
    "\n",
    "myfile.close()\n",
    "\n",
    "#pprint.pprint(data)"
   ]
  },
  {
   "cell_type": "code",
   "execution_count": 12,
   "metadata": {},
   "outputs": [],
   "source": [
    "formattedData = []\n",
    "for line in data:\n",
    "    formattedData.append(line.strip('\\n').split(','))"
   ]
  },
  {
   "cell_type": "code",
   "execution_count": 13,
   "metadata": {},
   "outputs": [],
   "source": [
    "#pprint.pprint(formattedData)"
   ]
  },
  {
   "cell_type": "code",
   "execution_count": 14,
   "metadata": {},
   "outputs": [
    {
     "name": "stdout",
     "output_type": "stream",
     "text": [
      "{'Ala': ['GCT', 'GCC', 'GCA', 'GCG'],\n",
      " 'Arg': ['CGT', 'CGC', 'CGA', 'CGG', 'AGA', 'AGG'],\n",
      " 'Asn': ['AAT', 'AAC'],\n",
      " 'Asp': ['GAT', 'GAC'],\n",
      " 'Cys': ['TGT', 'TGC'],\n",
      " 'Gln': ['CAA', 'CAG'],\n",
      " 'Glu': ['GAA', 'GAG'],\n",
      " 'Gly': ['GGT', 'GGC', 'GGA', 'GGG'],\n",
      " 'His': ['CAT', 'CAC'],\n",
      " 'Ile': ['ATT', 'ATC', 'ATA'],\n",
      " 'Leu': ['TTA', 'TTG', 'CTT', 'CTC', 'CTA', 'CTG'],\n",
      " 'Lys': ['AAA', 'AAG'],\n",
      " 'Met': ['ATG'],\n",
      " 'Phe': ['TTT', 'TTC'],\n",
      " 'Pro': ['CCT', 'CCC', 'CCA', 'CCG'],\n",
      " 'START': ['ATG'],\n",
      " 'STOP': ['TAA', 'TGA', 'TAG'],\n",
      " 'Ser': ['TCT', 'TCC', 'TCA', 'TCG', 'AGT', 'AGC'],\n",
      " 'Thr': ['ACT', 'ACC', 'ACA', 'ACG'],\n",
      " 'Trp': ['TGG'],\n",
      " 'Tyr': ['TAT', 'TAC'],\n",
      " 'Val': ['GTT', 'GTC', 'GTA', 'GTG']}\n"
     ]
    }
   ],
   "source": [
    "codons_to_amino = {}\n",
    "for sublist in formattedData:\n",
    "    aminoAcid = sublist[0]\n",
    "    codons = sublist[1:]\n",
    "\n",
    "    codons_to_amino.setdefault(aminoAcid, codons)\n",
    "     \n",
    "pprint.pprint(codons_to_amino)"
   ]
  },
  {
   "cell_type": "code",
   "execution_count": 15,
   "metadata": {},
   "outputs": [
    {
     "name": "stdout",
     "output_type": "stream",
     "text": [
      "{'AAA': 'Lys',\n",
      " 'AAC': 'Asn',\n",
      " 'AAG': 'Lys',\n",
      " 'AAT': 'Asn',\n",
      " 'ACA': 'Thr',\n",
      " 'ACC': 'Thr',\n",
      " 'ACG': 'Thr',\n",
      " 'ACT': 'Thr',\n",
      " 'AGA': 'Arg',\n",
      " 'AGC': 'Ser',\n",
      " 'AGG': 'Arg',\n",
      " 'AGT': 'Ser',\n",
      " 'ATA': 'Ile',\n",
      " 'ATC': 'Ile',\n",
      " 'ATG': 'START',\n",
      " 'ATT': 'Ile',\n",
      " 'CAA': 'Gln',\n",
      " 'CAC': 'His',\n",
      " 'CAG': 'Gln',\n",
      " 'CAT': 'His',\n",
      " 'CCA': 'Pro',\n",
      " 'CCC': 'Pro',\n",
      " 'CCG': 'Pro',\n",
      " 'CCT': 'Pro',\n",
      " 'CGA': 'Arg',\n",
      " 'CGC': 'Arg',\n",
      " 'CGG': 'Arg',\n",
      " 'CGT': 'Arg',\n",
      " 'CTA': 'Leu',\n",
      " 'CTC': 'Leu',\n",
      " 'CTG': 'Leu',\n",
      " 'CTT': 'Leu',\n",
      " 'GAA': 'Glu',\n",
      " 'GAC': 'Asp',\n",
      " 'GAG': 'Glu',\n",
      " 'GAT': 'Asp',\n",
      " 'GCA': 'Ala',\n",
      " 'GCC': 'Ala',\n",
      " 'GCG': 'Ala',\n",
      " 'GCT': 'Ala',\n",
      " 'GGA': 'Gly',\n",
      " 'GGC': 'Gly',\n",
      " 'GGG': 'Gly',\n",
      " 'GGT': 'Gly',\n",
      " 'GTA': 'Val',\n",
      " 'GTC': 'Val',\n",
      " 'GTG': 'Val',\n",
      " 'GTT': 'Val',\n",
      " 'TAA': 'STOP',\n",
      " 'TAC': 'Tyr',\n",
      " 'TAG': 'STOP',\n",
      " 'TAT': 'Tyr',\n",
      " 'TCA': 'Ser',\n",
      " 'TCC': 'Ser',\n",
      " 'TCG': 'Ser',\n",
      " 'TCT': 'Ser',\n",
      " 'TGA': 'STOP',\n",
      " 'TGC': 'Cys',\n",
      " 'TGG': 'Trp',\n",
      " 'TGT': 'Cys',\n",
      " 'TTA': 'Leu',\n",
      " 'TTC': 'Phe',\n",
      " 'TTG': 'Leu',\n",
      " 'TTT': 'Phe'}\n"
     ]
    }
   ],
   "source": [
    "aminos_to_codon = {}\n",
    "for key, codonList in codons_to_amino.items():\n",
    "    for element in codonList:\n",
    "        aminos_to_codon.setdefault(element,key)\n",
    "        \n",
    "pprint.pprint(aminos_to_codon)"
   ]
  },
  {
   "cell_type": "code",
   "execution_count": 16,
   "metadata": {},
   "outputs": [
    {
     "name": "stdout",
     "output_type": "stream",
     "text": [
      "aminos_to_codons properly loaded in\n"
     ]
    }
   ],
   "source": [
    "print('aminos_to_codons properly loaded in')"
   ]
  },
  {
   "cell_type": "code",
   "execution_count": null,
   "metadata": {},
   "outputs": [],
   "source": []
  }
 ],
 "metadata": {
  "kernelspec": {
   "display_name": "Python 3",
   "language": "python",
   "name": "python3"
  },
  "language_info": {
   "codemirror_mode": {
    "name": "ipython",
    "version": 3
   },
   "file_extension": ".py",
   "mimetype": "text/x-python",
   "name": "python",
   "nbconvert_exporter": "python",
   "pygments_lexer": "ipython3",
   "version": "3.6.4"
  }
 },
 "nbformat": 4,
 "nbformat_minor": 2
}
