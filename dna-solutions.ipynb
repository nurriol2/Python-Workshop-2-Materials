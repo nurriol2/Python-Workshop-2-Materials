{
 "cells": [
  {
   "cell_type": "markdown",
   "metadata": {},
   "source": [
    "# DNA Replication #"
   ]
  },
  {
   "cell_type": "markdown",
   "metadata": {},
   "source": [
    "The purpose of this problem is to gain some experience with using dictionaries in Python.\n",
    "\n",
    "You will be given half of a piece of DNA as an input. It is your job to create a function that accepts half a strand of DNA as a string, generates the matching strand, then prints the two strands together to the screen. \n",
    "\n",
    "\n",
    "This is how your input will look:\n",
    "\n",
    "example_in = 'A T A A G C '\n",
    "\n",
    "This is how your output could look:\n",
    "\n",
    "A T A A G C \n",
    "\n",
    "T A T T C G\n",
    "\n",
    "You may use **example_in** to test your function since you know the answer. \n",
    "You are free to name your function whatever you want, just make your names *meaningful* and *descriptive*."
   ]
  },
  {
   "cell_type": "code",
   "execution_count": 17,
   "metadata": {},
   "outputs": [],
   "source": [
    "#Define your function\n",
    "def dnaReplicator(dnaIn):\n",
    "    \n",
    "    \n",
    "    fourBases = {'A': 'T', 'T': 'A', 'G':'C', 'C':'G'}\n",
    "    \n",
    "    matchingStrand = ''\n",
    "    for base in dnaIn:\n",
    "        if base == ' ':\n",
    "            matchingStrand += ' '\n",
    "            continue\n",
    "        matchingStrand += fourBases[base]\n",
    "    \n",
    "    print(dnaIn)\n",
    "    print(matchingStrand)\n",
    "    \n",
    "    return matchingStrand"
   ]
  },
  {
   "cell_type": "code",
   "execution_count": 18,
   "metadata": {},
   "outputs": [
    {
     "name": "stdout",
     "output_type": "stream",
     "text": [
      "A A T G C C T A T G G C\n",
      "T T A C G G A T A C C G\n"
     ]
    },
    {
     "data": {
      "text/plain": [
       "'T T A C G G A T A C C G'"
      ]
     },
     "execution_count": 18,
     "metadata": {},
     "output_type": "execute_result"
    }
   ],
   "source": [
    "dnaReplicator('A A T G C C T A T G G C')"
   ]
  },
  {
   "cell_type": "markdown",
   "metadata": {},
   "source": [
    "Now that you have your DNA replicator working, let's make use of it.\n",
    "\n",
    "Below we have defined for you a dictionary called **codon_to_amino**. The keys of this dictionary are codons and the values are amino acids. It is your job to create a new function that uses your previous function to read an input half of a strand of DNA and prints to the screen all the codons the full piece would code for in a cell. "
   ]
  },
  {
   "cell_type": "code",
   "execution_count": null,
   "metadata": {},
   "outputs": [],
   "source": [
    "codon_to_amino = {}"
   ]
  },
  {
   "cell_type": "code",
   "execution_count": null,
   "metadata": {},
   "outputs": [],
   "source": []
  }
 ],
 "metadata": {
  "kernelspec": {
   "display_name": "Python 3",
   "language": "python",
   "name": "python3"
  },
  "language_info": {
   "codemirror_mode": {
    "name": "ipython",
    "version": 3
   },
   "file_extension": ".py",
   "mimetype": "text/x-python",
   "name": "python",
   "nbconvert_exporter": "python",
   "pygments_lexer": "ipython3",
   "version": "3.6.4"
  }
 },
 "nbformat": 4,
 "nbformat_minor": 2
}
