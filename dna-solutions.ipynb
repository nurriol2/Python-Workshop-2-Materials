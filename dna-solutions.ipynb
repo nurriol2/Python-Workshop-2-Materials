{
 "cells": [
  {
   "cell_type": "markdown",
   "metadata": {},
   "source": [
    "# DNA Replication #"
   ]
  },
  {
   "cell_type": "markdown",
   "metadata": {},
   "source": [
    "The purpose of this problem is to gain some experience with using dictionaries in Python.\n",
    "\n",
    "You will be given half of a piece of DNA as an input. It is your job to create a function that accepts half a strand of DNA as a string, generates the matching strand, then prints the two strands together to the screen. \n",
    "\n",
    "\n",
    "This is how your input will look:\n",
    "\n",
    "example_in = 'A T A A G C '\n",
    "\n",
    "This is how your output could look:\n",
    "\n",
    "A T A A G C \n",
    "\n",
    "T A T T C G\n",
    "\n",
    "You may use **example_in** to test your function since you know the answer. \n",
    "You are free to name your function whatever you want, just make your names *meaningful* and *descriptive*."
   ]
  },
  {
   "cell_type": "code",
   "execution_count": 9,
   "metadata": {},
   "outputs": [],
   "source": [
    "#Define your function\n",
    "def dnaReplicator(dnaIn):\n",
    "    \n",
    "    \n",
    "    fourBases = {'A': 'T', 'T': 'A', 'G':'C', 'C':'G'}\n",
    "    \n",
    "    matchingStrand = ''\n",
    "    for base in dnaIn:\n",
    "        if base == ' ':\n",
    "            matchingStrand += ''\n",
    "            continue\n",
    "        matchingStrand += fourBases[base]\n",
    "    \n",
    "    print(dnaIn)\n",
    "    print(matchingStrand)\n",
    "    \n",
    "    return matchingStrand"
   ]
  },
  {
   "cell_type": "code",
   "execution_count": 47,
   "metadata": {},
   "outputs": [
    {
     "name": "stdout",
     "output_type": "stream",
     "text": [
      "AATGCCTATGGC\n",
      "TTACGGATACCG\n"
     ]
    },
    {
     "data": {
      "text/plain": [
       "'TTACGGATACCG'"
      ]
     },
     "execution_count": 47,
     "metadata": {},
     "output_type": "execute_result"
    }
   ],
   "source": [
    "dnaReplicator('AATGCCTATGGC')"
   ]
  },
  {
   "cell_type": "markdown",
   "metadata": {},
   "source": [
    "Now that you have your DNA replicator working, let's make use of it.\n",
    "\n",
    "Below we have defined for you a dictionary called **aminos_to_codons**. The keys of this dictionary are codons and the values are a list amino acids. It is your job to create a new function that uses your previous function to read an input of half of a strand of DNA and prints to the screen all the codons the full piece would code for. \n",
    "\n",
    "Run the cell below to load in the dictionary."
   ]
  },
  {
   "cell_type": "code",
   "execution_count": 11,
   "metadata": {},
   "outputs": [
    {
     "name": "stdout",
     "output_type": "stream",
     "text": [
      "aminos_to_codons properly loaded in\n"
     ]
    }
   ],
   "source": [
    "#Do not change this cell\n",
    "%run dictCreator.ipynb"
   ]
  },
  {
   "cell_type": "markdown",
   "metadata": {},
   "source": [
    "Now that **aminios_to_codons** is properly loaded in, write your code below."
   ]
  },
  {
   "cell_type": "code",
   "execution_count": 45,
   "metadata": {},
   "outputs": [],
   "source": [
    "def aminoFinder(dnaIn):\n",
    "    \n",
    "    reference = dnaReplicator(dnaIn)\n",
    "    \n",
    "    aminoAcids = ''\n",
    "    i = 0\n",
    "    for i in range(0, len(reference), 3):\n",
    "        codon = reference[i:i+3]\n",
    "        aminoAcids += aminos_to_codon[codon] + ' '\n",
    "    print(aminoAcids)\n",
    "    return "
   ]
  },
  {
   "cell_type": "code",
   "execution_count": 46,
   "metadata": {},
   "outputs": [
    {
     "name": "stdout",
     "output_type": "stream",
     "text": [
      "AATGCCTATGGC\n",
      "TTACGGATACCG\n",
      "Leu Arg Ile Pro \n"
     ]
    }
   ],
   "source": [
    "aminoFinder('AATGCCTATGGC')\n",
    "#answer is: Leu, Arg, Ile, Pro"
   ]
  },
  {
   "cell_type": "code",
   "execution_count": null,
   "metadata": {},
   "outputs": [],
   "source": []
  }
 ],
 "metadata": {
  "kernelspec": {
   "display_name": "Python 3",
   "language": "python",
   "name": "python3"
  },
  "language_info": {
   "codemirror_mode": {
    "name": "ipython",
    "version": 3
   },
   "file_extension": ".py",
   "mimetype": "text/x-python",
   "name": "python",
   "nbconvert_exporter": "python",
   "pygments_lexer": "ipython3",
   "version": "3.6.4"
  }
 },
 "nbformat": 4,
 "nbformat_minor": 2
}
