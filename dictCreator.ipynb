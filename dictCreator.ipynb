{
 "cells": [
  {
   "cell_type": "code",
   "execution_count": 2,
   "metadata": {},
   "outputs": [],
   "source": [
    "import pprint\n",
    "\n",
    "myfile = open('codon-to-amino.txt', 'r')\n",
    "\n",
    "data = myfile.readlines()\n",
    "\n",
    "myfile.close()\n",
    "\n",
    "#pprint.pprint(data)"
   ]
  },
  {
   "cell_type": "code",
   "execution_count": 3,
   "metadata": {},
   "outputs": [],
   "source": [
    "formattedData = []\n",
    "for line in data:\n",
    "    formattedData.append(line.strip('\\n').split(','))"
   ]
  },
  {
   "cell_type": "code",
   "execution_count": 4,
   "metadata": {},
   "outputs": [],
   "source": [
    "#pprint.pprint(formattedData)"
   ]
  },
  {
   "cell_type": "code",
   "execution_count": 8,
   "metadata": {},
   "outputs": [
    {
     "name": "stdout",
     "output_type": "stream",
     "text": [
      "{'Ala': ['GCT', 'GCC', 'GCA', 'GCG'],\n",
      " 'Arg': ['CGT', 'CGC', 'CGA', 'CGG', 'AGA', 'AGG'],\n",
      " 'Asn': ['AAT', 'AAC'],\n",
      " 'Asp': ['GAT', 'GAC'],\n",
      " 'Cys': ['TGT', 'TGC'],\n",
      " 'Gln': ['CAA', 'CAG'],\n",
      " 'Glu': ['GAA', 'GAG '],\n",
      " 'Gly': ['GGT', 'GGC', 'GGA', 'GGG'],\n",
      " 'His': ['CAT', 'CAC'],\n",
      " 'Ile': ['ATT', 'ATC', 'ATA'],\n",
      " 'Leu': ['TTA', 'TTG', 'CTT', 'CTC', 'CTA', 'CTG'],\n",
      " 'Lys': ['AAA', 'AAG'],\n",
      " 'Met': ['ATG'],\n",
      " 'Phe': ['TTT', 'TTC'],\n",
      " 'Pro': ['CCT', 'CCC', 'CCA', 'CCG'],\n",
      " 'START': ['ATG'],\n",
      " 'STOP': ['TAA', 'TGA', 'TAG'],\n",
      " 'Ser': ['TCT TCC', 'TCA', 'TCG', 'AGT', 'AGC'],\n",
      " 'Thr': ['ACT', 'ACC', 'ACA', 'ACG'],\n",
      " 'Trp': ['TGG'],\n",
      " 'Tyr': ['TAT', 'TAC'],\n",
      " 'Val': ['GTT', 'GTC', 'GTA', 'GTG']}\n"
     ]
    }
   ],
   "source": [
    "codons_to_amino = {}\n",
    "for sublist in formattedData:\n",
    "    aminoAcid = sublist[0]\n",
    "    codons = sublist[1:]\n",
    "\n",
    "    codons_to_amino.setdefault(aminoAcid, codons)\n",
    "     \n",
    "pprint.pprint(codons_to_amino)"
   ]
  },
  {
   "cell_type": "code",
   "execution_count": 9,
   "metadata": {},
   "outputs": [
    {
     "name": "stdout",
     "output_type": "stream",
     "text": [
      "{'AAA': None,\n",
      " 'AAC': None,\n",
      " 'AAG': None,\n",
      " 'AAT': None,\n",
      " 'ACA': None,\n",
      " 'ACC': None,\n",
      " 'ACG': None,\n",
      " 'ACT': None,\n",
      " 'AGA': None,\n",
      " 'AGC': None,\n",
      " 'AGG': None,\n",
      " 'AGT': None,\n",
      " 'ATA': None,\n",
      " 'ATC': None,\n",
      " 'ATG': None,\n",
      " 'ATT': None,\n",
      " 'CAA': None,\n",
      " 'CAC': None,\n",
      " 'CAG': None,\n",
      " 'CAT': None,\n",
      " 'CCA': None,\n",
      " 'CCC': None,\n",
      " 'CCG': None,\n",
      " 'CCT': None,\n",
      " 'CGA': None,\n",
      " 'CGC': None,\n",
      " 'CGG': None,\n",
      " 'CGT': None,\n",
      " 'CTA': None,\n",
      " 'CTC': None,\n",
      " 'CTG': None,\n",
      " 'CTT': None,\n",
      " 'GAA': None,\n",
      " 'GAC': None,\n",
      " 'GAG ': None,\n",
      " 'GAT': None,\n",
      " 'GCA': None,\n",
      " 'GCC': None,\n",
      " 'GCG': None,\n",
      " 'GCT': None,\n",
      " 'GGA': None,\n",
      " 'GGC': None,\n",
      " 'GGG': None,\n",
      " 'GGT': None,\n",
      " 'GTA': None,\n",
      " 'GTC': None,\n",
      " 'GTG': None,\n",
      " 'GTT': None,\n",
      " 'TAA': None,\n",
      " 'TAC': None,\n",
      " 'TAG': None,\n",
      " 'TAT': None,\n",
      " 'TCA': None,\n",
      " 'TCG': None,\n",
      " 'TCT TCC': None,\n",
      " 'TGA': None,\n",
      " 'TGC': None,\n",
      " 'TGG': None,\n",
      " 'TGT': None,\n",
      " 'TTA': None,\n",
      " 'TTC': None,\n",
      " 'TTG': None,\n",
      " 'TTT': None}\n"
     ]
    }
   ],
   "source": [
    "aminos_to_codon = {}\n",
    "for key, codonList in codons_to_amino.items():\n",
    "    for element in codonList:\n",
    "        aminos_to_codon.setdefault(key, element)\n",
    "        \n",
    "pprint.pprint(aminos_to_codons)"
   ]
  },
  {
   "cell_type": "code",
   "execution_count": 1,
   "metadata": {},
   "outputs": [
    {
     "name": "stdout",
     "output_type": "stream",
     "text": [
      "aminos_to_codons properly loaded in\n"
     ]
    }
   ],
   "source": [
    "print('aminos_to_codons properly loaded in')"
   ]
  }
 ],
 "metadata": {
  "kernelspec": {
   "display_name": "Python 3",
   "language": "python",
   "name": "python3"
  },
  "language_info": {
   "codemirror_mode": {
    "name": "ipython",
    "version": 3
   },
   "file_extension": ".py",
   "mimetype": "text/x-python",
   "name": "python",
   "nbconvert_exporter": "python",
   "pygments_lexer": "ipython3",
   "version": "3.6.4"
  }
 },
 "nbformat": 4,
 "nbformat_minor": 2
}
