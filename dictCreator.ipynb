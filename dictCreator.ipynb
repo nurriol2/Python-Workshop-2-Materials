{
 "cells": [
  {
   "cell_type": "code",
   "execution_count": 3,
   "metadata": {},
   "outputs": [],
   "source": [
    "import pprint\n",
    "\n",
    "myfile = open('codon-to-amino.txt', 'r')\n",
    "\n",
    "data = myfile.readlines()\n",
    "\n",
    "myfile.close()\n",
    "\n",
    "#pprint.pprint(data)\n",
    "\n",
    "formattedData = []\n",
    "for line in data:\n",
    "    formattedData.append(line.strip('\\n').split(','))"
   ]
  },
  {
   "cell_type": "code",
   "execution_count": 4,
   "metadata": {},
   "outputs": [],
   "source": [
    "#pprint.pprint(formattedData)"
   ]
  },
  {
   "cell_type": "code",
   "execution_count": 5,
   "metadata": {},
   "outputs": [],
   "source": [
    "def dictCreator():\n",
    "    codons_to_amino = {}\n",
    "    for sublist in formattedData:\n",
    "        aminoAcid = sublist[0]\n",
    "        codons = sublist[1:]\n",
    "\n",
    "        codons_to_amino.setdefault(aminoAcid, codons)\n",
    "\n",
    "    #pprint.pprint(codons_to_amino)\n",
    "\n",
    "    aminos_to_codon = {}\n",
    "    for key, codonList in codons_to_amino.items():\n",
    "        for element in codonList:\n",
    "            aminos_to_codon.setdefault(element,key)\n",
    "\n",
    "    #pprint.pprint(aminos_to_codon)\n",
    "\n",
    "    print('aminos_to_codons properly loaded in')\n",
    "    return aminos_to_codon"
   ]
  },
  {
   "cell_type": "code",
   "execution_count": 6,
   "metadata": {},
   "outputs": [
    {
     "name": "stdout",
     "output_type": "stream",
     "text": [
      "aminos_to_codons properly loaded in\n"
     ]
    },
    {
     "data": {
      "text/plain": [
       "{'AAA': 'Lys',\n",
       " 'AAC': 'Asn',\n",
       " 'AAG': 'Lys',\n",
       " 'AAT': 'Asn',\n",
       " 'ACA': 'Thr',\n",
       " 'ACC': 'Thr',\n",
       " 'ACG': 'Thr',\n",
       " 'ACT': 'Thr',\n",
       " 'AGA': 'Arg',\n",
       " 'AGC': 'Ser',\n",
       " 'AGG': 'Arg',\n",
       " 'AGT': 'Ser',\n",
       " 'ATA': 'Ile',\n",
       " 'ATC': 'Ile',\n",
       " 'ATG': 'START',\n",
       " 'ATT': 'Ile',\n",
       " 'CAA': 'Gln',\n",
       " 'CAC': 'His',\n",
       " 'CAG': 'Gln',\n",
       " 'CAT': 'His',\n",
       " 'CCA': 'Pro',\n",
       " 'CCC': 'Pro',\n",
       " 'CCG': 'Pro',\n",
       " 'CCT': 'Pro',\n",
       " 'CGA': 'Arg',\n",
       " 'CGC': 'Arg',\n",
       " 'CGG': 'Arg',\n",
       " 'CGT': 'Arg',\n",
       " 'CTA': 'Leu',\n",
       " 'CTC': 'Leu',\n",
       " 'CTG': 'Leu',\n",
       " 'CTT': 'Leu',\n",
       " 'GAA': 'Glu',\n",
       " 'GAC': 'Asp',\n",
       " 'GAG': 'Glu',\n",
       " 'GAT': 'Asp',\n",
       " 'GCA': 'Ala',\n",
       " 'GCC': 'Ala',\n",
       " 'GCG': 'Ala',\n",
       " 'GCT': 'Ala',\n",
       " 'GGA': 'Gly',\n",
       " 'GGC': 'Gly',\n",
       " 'GGG': 'Gly',\n",
       " 'GGT': 'Gly',\n",
       " 'GTA': 'Val',\n",
       " 'GTC': 'Val',\n",
       " 'GTG': 'Val',\n",
       " 'GTT': 'Val',\n",
       " 'TAA': 'STOP',\n",
       " 'TAC': 'Tyr',\n",
       " 'TAG': 'STOP',\n",
       " 'TAT': 'Tyr',\n",
       " 'TCA': 'Ser',\n",
       " 'TCC': 'Ser',\n",
       " 'TCG': 'Ser',\n",
       " 'TCT': 'Ser',\n",
       " 'TGA': 'STOP',\n",
       " 'TGC': 'Cys',\n",
       " 'TGG': 'Trp',\n",
       " 'TGT': 'Cys',\n",
       " 'TTA': 'Leu',\n",
       " 'TTC': 'Phe',\n",
       " 'TTG': 'Leu',\n",
       " 'TTT': 'Phe'}"
      ]
     },
     "execution_count": 6,
     "metadata": {},
     "output_type": "execute_result"
    }
   ],
   "source": [
    "dictCreator()"
   ]
  },
  {
   "cell_type": "code",
   "execution_count": null,
   "metadata": {},
   "outputs": [],
   "source": []
  }
 ],
 "metadata": {
  "kernelspec": {
   "display_name": "Python 3",
   "language": "python",
   "name": "python3"
  },
  "language_info": {
   "codemirror_mode": {
    "name": "ipython",
    "version": 3
   },
   "file_extension": ".py",
   "mimetype": "text/x-python",
   "name": "python",
   "nbconvert_exporter": "python",
   "pygments_lexer": "ipython3",
   "version": "3.6.4"
  }
 },
 "nbformat": 4,
 "nbformat_minor": 2
}
